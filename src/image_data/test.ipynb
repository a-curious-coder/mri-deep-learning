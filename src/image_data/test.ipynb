{
 "cells": [
  {
   "cell_type": "code",
   "execution_count": 17,
   "metadata": {},
   "outputs": [],
   "source": [
    "import random\n",
    "import os\n",
    "import pandas as pd\n",
    "slice_mode = \"average_center\"\n",
    "image_size = (72, 72)\n"
   ]
  },
  {
   "cell_type": "code",
   "execution_count": 2,
   "metadata": {},
   "outputs": [],
   "source": [
    "os.chdir(\"../\")\n"
   ]
  },
  {
   "cell_type": "code",
   "execution_count": 3,
   "metadata": {},
   "outputs": [
    {
     "data": {
      "text/plain": [
       "'/Users/callummclennan/Desktop/Projects/mri-deep-learning/src'"
      ]
     },
     "execution_count": 3,
     "metadata": {},
     "output_type": "execute_result"
    }
   ],
   "source": [
    "os.getcwd()"
   ]
  },
  {
   "cell_type": "code",
   "execution_count": 20,
   "metadata": {},
   "outputs": [
    {
     "name": "stdout",
     "output_type": "stream",
     "text": [
      "[INFO] Reshuffling test and training sets with seed 42\n"
     ]
    },
    {
     "ename": "ValueError",
     "evalue": "All arrays must be of the same length",
     "output_type": "error",
     "traceback": [
      "\u001b[0;31m---------------------------------------------------------------------------\u001b[0m",
      "\u001b[0;31mValueError\u001b[0m                                Traceback (most recent call last)",
      "\u001b[1;32m/Users/callummclennan/Desktop/Projects/mri-deep-learning/src/image_data/test.ipynb Cell 4\u001b[0m in \u001b[0;36m<cell line: 50>\u001b[0;34m()\u001b[0m\n\u001b[1;32m     <a href='vscode-notebook-cell:/Users/callummclennan/Desktop/Projects/mri-deep-learning/src/image_data/test.ipynb#W2sZmlsZQ%3D%3D?line=45'>46</a>\u001b[0m     nl_test_files \u001b[39m=\u001b[39m nl_files[\u001b[39mround\u001b[39m(\u001b[39mlen\u001b[39m(nl_files) \u001b[39m*\u001b[39m (\u001b[39m1\u001b[39m \u001b[39m-\u001b[39m nl_split)):]\n\u001b[1;32m     <a href='vscode-notebook-cell:/Users/callummclennan/Desktop/Projects/mri-deep-learning/src/image_data/test.ipynb#W2sZmlsZQ%3D%3D?line=47'>48</a>\u001b[0m     \u001b[39mprint\u001b[39m(\u001b[39mf\u001b[39m\u001b[39m\"\u001b[39m\u001b[39m[INFO] Reshuffling complete (seed : \u001b[39m\u001b[39m{\u001b[39;00mseed\u001b[39m}\u001b[39;00m\u001b[39m) \u001b[39m\u001b[39m\"\u001b[39m)\n\u001b[0;32m---> <a href='vscode-notebook-cell:/Users/callummclennan/Desktop/Projects/mri-deep-learning/src/image_data/test.ipynb#W2sZmlsZQ%3D%3D?line=49'>50</a>\u001b[0m reshuffle_test_train_sets(\u001b[39m42\u001b[39;49m)\n",
      "\u001b[1;32m/Users/callummclennan/Desktop/Projects/mri-deep-learning/src/image_data/test.ipynb Cell 4\u001b[0m in \u001b[0;36mreshuffle_test_train_sets\u001b[0;34m(seed)\u001b[0m\n\u001b[1;32m     <a href='vscode-notebook-cell:/Users/callummclennan/Desktop/Projects/mri-deep-learning/src/image_data/test.ipynb#W2sZmlsZQ%3D%3D?line=13'>14</a>\u001b[0m \u001b[39m# get all png files in test directory from all subdirectories\u001b[39;00m\n\u001b[1;32m     <a href='vscode-notebook-cell:/Users/callummclennan/Desktop/Projects/mri-deep-learning/src/image_data/test.ipynb#W2sZmlsZQ%3D%3D?line=14'>15</a>\u001b[0m test_files \u001b[39m=\u001b[39m [os\u001b[39m.\u001b[39mpath\u001b[39m.\u001b[39mjoin(dirpath, f)\n\u001b[1;32m     <a href='vscode-notebook-cell:/Users/callummclennan/Desktop/Projects/mri-deep-learning/src/image_data/test.ipynb#W2sZmlsZQ%3D%3D?line=15'>16</a>\u001b[0m                     \u001b[39mfor\u001b[39;00m dirpath, dirnames, files \u001b[39min\u001b[39;00m os\u001b[39m.\u001b[39mwalk(test_dir)\n\u001b[1;32m     <a href='vscode-notebook-cell:/Users/callummclennan/Desktop/Projects/mri-deep-learning/src/image_data/test.ipynb#W2sZmlsZQ%3D%3D?line=16'>17</a>\u001b[0m                         \u001b[39mfor\u001b[39;00m f \u001b[39min\u001b[39;00m files \u001b[39mif\u001b[39;00m f\u001b[39m.\u001b[39mendswith(\u001b[39m\"\u001b[39m\u001b[39m.png\u001b[39m\u001b[39m\"\u001b[39m)]\n\u001b[0;32m---> <a href='vscode-notebook-cell:/Users/callummclennan/Desktop/Projects/mri-deep-learning/src/image_data/test.ipynb#W2sZmlsZQ%3D%3D?line=17'>18</a>\u001b[0m df \u001b[39m=\u001b[39m pd\u001b[39m.\u001b[39;49mDataFrame({\u001b[39m\"\u001b[39;49m\u001b[39mtrain\u001b[39;49m\u001b[39m\"\u001b[39;49m: train_files, \u001b[39m\"\u001b[39;49m\u001b[39mtest\u001b[39;49m\u001b[39m\"\u001b[39;49m: test_files})\n\u001b[1;32m     <a href='vscode-notebook-cell:/Users/callummclennan/Desktop/Projects/mri-deep-learning/src/image_data/test.ipynb#W2sZmlsZQ%3D%3D?line=18'>19</a>\u001b[0m \u001b[39m# Get all files in train_dir\u001b[39;00m\n\u001b[1;32m     <a href='vscode-notebook-cell:/Users/callummclennan/Desktop/Projects/mri-deep-learning/src/image_data/test.ipynb#W2sZmlsZQ%3D%3D?line=19'>20</a>\u001b[0m ad_files \u001b[39m=\u001b[39m os\u001b[39m.\u001b[39mlistdir(train_dir \u001b[39m+\u001b[39m \u001b[39m\"\u001b[39m\u001b[39m/AD\u001b[39m\u001b[39m\"\u001b[39m)\n",
      "File \u001b[0;32m~/Desktop/Projects/mri-deep-learning/.venv/lib/python3.8/site-packages/pandas/core/frame.py:614\u001b[0m, in \u001b[0;36mDataFrame.__init__\u001b[0;34m(self, data, index, columns, dtype, copy)\u001b[0m\n\u001b[1;32m    608\u001b[0m     mgr \u001b[39m=\u001b[39m \u001b[39mself\u001b[39m\u001b[39m.\u001b[39m_init_mgr(\n\u001b[1;32m    609\u001b[0m         data, axes\u001b[39m=\u001b[39m{\u001b[39m\"\u001b[39m\u001b[39mindex\u001b[39m\u001b[39m\"\u001b[39m: index, \u001b[39m\"\u001b[39m\u001b[39mcolumns\u001b[39m\u001b[39m\"\u001b[39m: columns}, dtype\u001b[39m=\u001b[39mdtype, copy\u001b[39m=\u001b[39mcopy\n\u001b[1;32m    610\u001b[0m     )\n\u001b[1;32m    612\u001b[0m \u001b[39melif\u001b[39;00m \u001b[39misinstance\u001b[39m(data, \u001b[39mdict\u001b[39m):\n\u001b[1;32m    613\u001b[0m     \u001b[39m# GH#38939 de facto copy defaults to False only in non-dict cases\u001b[39;00m\n\u001b[0;32m--> 614\u001b[0m     mgr \u001b[39m=\u001b[39m dict_to_mgr(data, index, columns, dtype\u001b[39m=\u001b[39;49mdtype, copy\u001b[39m=\u001b[39;49mcopy, typ\u001b[39m=\u001b[39;49mmanager)\n\u001b[1;32m    615\u001b[0m \u001b[39melif\u001b[39;00m \u001b[39misinstance\u001b[39m(data, ma\u001b[39m.\u001b[39mMaskedArray):\n\u001b[1;32m    616\u001b[0m     \u001b[39mimport\u001b[39;00m \u001b[39mnumpy\u001b[39;00m\u001b[39m.\u001b[39;00m\u001b[39mma\u001b[39;00m\u001b[39m.\u001b[39;00m\u001b[39mmrecords\u001b[39;00m \u001b[39mas\u001b[39;00m \u001b[39mmrecords\u001b[39;00m\n",
      "File \u001b[0;32m~/Desktop/Projects/mri-deep-learning/.venv/lib/python3.8/site-packages/pandas/core/internals/construction.py:464\u001b[0m, in \u001b[0;36mdict_to_mgr\u001b[0;34m(data, index, columns, dtype, typ, copy)\u001b[0m\n\u001b[1;32m    456\u001b[0m     arrays \u001b[39m=\u001b[39m [\n\u001b[1;32m    457\u001b[0m         x\n\u001b[1;32m    458\u001b[0m         \u001b[39mif\u001b[39;00m \u001b[39mnot\u001b[39;00m \u001b[39mhasattr\u001b[39m(x, \u001b[39m\"\u001b[39m\u001b[39mdtype\u001b[39m\u001b[39m\"\u001b[39m) \u001b[39mor\u001b[39;00m \u001b[39mnot\u001b[39;00m \u001b[39misinstance\u001b[39m(x\u001b[39m.\u001b[39mdtype, ExtensionDtype)\n\u001b[1;32m    459\u001b[0m         \u001b[39melse\u001b[39;00m x\u001b[39m.\u001b[39mcopy()\n\u001b[1;32m    460\u001b[0m         \u001b[39mfor\u001b[39;00m x \u001b[39min\u001b[39;00m arrays\n\u001b[1;32m    461\u001b[0m     ]\n\u001b[1;32m    462\u001b[0m     \u001b[39m# TODO: can we get rid of the dt64tz special case above?\u001b[39;00m\n\u001b[0;32m--> 464\u001b[0m \u001b[39mreturn\u001b[39;00m arrays_to_mgr(\n\u001b[1;32m    465\u001b[0m     arrays, data_names, index, columns, dtype\u001b[39m=\u001b[39;49mdtype, typ\u001b[39m=\u001b[39;49mtyp, consolidate\u001b[39m=\u001b[39;49mcopy\n\u001b[1;32m    466\u001b[0m )\n",
      "File \u001b[0;32m~/Desktop/Projects/mri-deep-learning/.venv/lib/python3.8/site-packages/pandas/core/internals/construction.py:119\u001b[0m, in \u001b[0;36marrays_to_mgr\u001b[0;34m(arrays, arr_names, index, columns, dtype, verify_integrity, typ, consolidate)\u001b[0m\n\u001b[1;32m    116\u001b[0m \u001b[39mif\u001b[39;00m verify_integrity:\n\u001b[1;32m    117\u001b[0m     \u001b[39m# figure out the index, if necessary\u001b[39;00m\n\u001b[1;32m    118\u001b[0m     \u001b[39mif\u001b[39;00m index \u001b[39mis\u001b[39;00m \u001b[39mNone\u001b[39;00m:\n\u001b[0;32m--> 119\u001b[0m         index \u001b[39m=\u001b[39m _extract_index(arrays)\n\u001b[1;32m    120\u001b[0m     \u001b[39melse\u001b[39;00m:\n\u001b[1;32m    121\u001b[0m         index \u001b[39m=\u001b[39m ensure_index(index)\n",
      "File \u001b[0;32m~/Desktop/Projects/mri-deep-learning/.venv/lib/python3.8/site-packages/pandas/core/internals/construction.py:635\u001b[0m, in \u001b[0;36m_extract_index\u001b[0;34m(data)\u001b[0m\n\u001b[1;32m    633\u001b[0m lengths \u001b[39m=\u001b[39m \u001b[39mlist\u001b[39m(\u001b[39mset\u001b[39m(raw_lengths))\n\u001b[1;32m    634\u001b[0m \u001b[39mif\u001b[39;00m \u001b[39mlen\u001b[39m(lengths) \u001b[39m>\u001b[39m \u001b[39m1\u001b[39m:\n\u001b[0;32m--> 635\u001b[0m     \u001b[39mraise\u001b[39;00m \u001b[39mValueError\u001b[39;00m(\u001b[39m\"\u001b[39m\u001b[39mAll arrays must be of the same length\u001b[39m\u001b[39m\"\u001b[39m)\n\u001b[1;32m    637\u001b[0m \u001b[39mif\u001b[39;00m have_dicts:\n\u001b[1;32m    638\u001b[0m     \u001b[39mraise\u001b[39;00m \u001b[39mValueError\u001b[39;00m(\n\u001b[1;32m    639\u001b[0m         \u001b[39m\"\u001b[39m\u001b[39mMixing dicts with non-Series may lead to ambiguous ordering.\u001b[39m\u001b[39m\"\u001b[39m\n\u001b[1;32m    640\u001b[0m     )\n",
      "\u001b[0;31mValueError\u001b[0m: All arrays must be of the same length"
     ]
    }
   ],
   "source": [
    "def reshuffle_test_train_sets(seed):\n",
    "    \"\"\" Reshuffles the test and training sets in storage\n",
    "    Args:\n",
    "        seed (int): seed for random number generator\n",
    "    \"\"\"\n",
    "    print(f\"[INFO] Reshuffling test and training sets with seed {seed}\")\n",
    "    train_dir = f\"../data/dataset/{slice_mode}_{image_size[0]}/train\"\n",
    "    test_dir = f\"../data/dataset/{slice_mode}_{image_size[0]}/test\"\n",
    "    random.seed(seed)\n",
    "    # get all png files in train directory from all subdirectories\n",
    "    train_files = [os.path.join(dirpath, f)\n",
    "                     for dirpath, dirnames, files in os.walk(train_dir)\n",
    "                        for f in files if f.endswith(\".png\")]\n",
    "    # get all png files in test directory from all subdirectories\n",
    "    test_files = [os.path.join(dirpath, f)\n",
    "                        for dirpath, dirnames, files in os.walk(test_dir)\n",
    "                            for f in files if f.endswith(\".png\")]\n",
    "    all_files = train_files + test_files\n",
    "    # Extract labels from filenames\n",
    "    labels = [f.split(\"/\")[-1].split(\"_\")[0] for f in all_files]\n",
    "    df = pd.DataFrame({\"filename\": train_files, \"dataset\": test_files})\n",
    "    # Get all files in train_dir\n",
    "    ad_files = os.listdir(train_dir + \"/AD\")\n",
    "    nl_files = os.listdir(train_dir + \"/NL\")\n",
    "\n",
    "    # Get test files in test_dir\n",
    "    ad_test_files = os.listdir(test_dir + \"/AD\")\n",
    "    nl_test_files = os.listdir(test_dir + \"/NL\")\n",
    "\n",
    "    # Calculate size difference between ad_files and ad_test_files\n",
    "    ad_test_size = round(len(ad_test_files) / (len(ad_files) + len(ad_test_files)), 1)\n",
    "    nl_split = round(len(nl_test_files) / (len(nl_files) + len(nl_test_files)), 1)\n",
    "    print(f\"[INFO]\\tAD split: {ad_test_size}\")\n",
    "    print(f\"[INFO]\\tNL split: {nl_split}\")\n",
    "    # Combine ad_files and ad_test_files\n",
    "    ad_files.extend(ad_test_files)\n",
    "    # shuffle ad_files\n",
    "    random.shuffle(ad_files)\n",
    "    # split ad_files into train and test\n",
    "    ad_train_files = ad_files[:round(len(ad_files) * (1 - ad_test_size))]\n",
    "    ad_test_files = ad_files[round(len(ad_files) * (1 - ad_test_size)):]\n",
    "\n",
    "    # Combine nl_files and nl_test_files\n",
    "    nl_files.extend(nl_test_files)\n",
    "    # shuffle nl_files\n",
    "    random.shuffle(nl_files)\n",
    "    # split nl_files into train and test\n",
    "    nl_train_files = nl_files[:round(len(nl_files) * (1 - nl_split))]\n",
    "    nl_test_files = nl_files[round(len(nl_files) * (1 - nl_split)):]\n",
    "\n",
    "    print(f\"[INFO] Reshuffling complete (seed : {seed}) \")\n",
    "\n",
    "reshuffle_test_train_sets(42)"
   ]
  }
 ],
 "metadata": {
  "kernelspec": {
   "display_name": "Python 3.8.5 ('.venv': venv)",
   "language": "python",
   "name": "python3"
  },
  "language_info": {
   "codemirror_mode": {
    "name": "ipython",
    "version": 3
   },
   "file_extension": ".py",
   "mimetype": "text/x-python",
   "name": "python",
   "nbconvert_exporter": "python",
   "pygments_lexer": "ipython3",
   "version": "3.8.5"
  },
  "orig_nbformat": 4,
  "vscode": {
   "interpreter": {
    "hash": "e9039755b213aa454c1f1a9d7707467310156c7a7f86bd62c14d5c183a7888b4"
   }
  }
 },
 "nbformat": 4,
 "nbformat_minor": 2
}
